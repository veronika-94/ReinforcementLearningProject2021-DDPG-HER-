{
 "cells": [
  {
   "cell_type": "code",
   "execution_count": null,
   "metadata": {},
   "outputs": [],
   "source": [
    "import os\n",
    "import tensorflow as tf\n",
    "import tensorflow.keras as keras\n",
    "from tensorflow.keras.layers import Dense\n",
    "\n",
    "class CriticNetwork(keras.Model):\n",
    "    def __init__(self, fc1_dims=512, fc2_dims=512,\n",
    "            name='critic', chkpt_dir='tmp/ddpg'): #mkdir temp\n",
    "        super(CriticNetwork, self).__init__()\n",
    "        self.fc1_dims = fc1_dims\n",
    "        self.fc2_dims = fc2_dims\n",
    "\n",
    "        self.model_name = name\n",
    "        self.checkpoint_dir = chkpt_dir\n",
    "        self.checkpoint_file = os.path.join(self.checkpoint_dir, \n",
    "                    self.model_name+'_ddpg.h5') \n",
    "\n",
    "        self.fc1 = Dense(self.fc1_dims, activation='relu') #outputs fc1_dims\n",
    "        self.fc2 = Dense(self.fc2_dims, activation='relu') #outputs fc2_dims\n",
    "        self.q = Dense(1, activation=None)#outputs q value\n",
    "\n",
    "    def call(self, state, action): #forward propagation\n",
    "        action_value = self.fc1(tf.concat([state, action], axis=1))\n",
    "        action_value = self.fc2(action_value)\n",
    "\n",
    "        q = self.q(action_value)\n",
    "\n",
    "        return q\n",
    "\n",
    "class ActorNetwork(keras.Model):\n",
    "    def __init__(self, fc1_dims=512, fc2_dims=512, n_actions=2, name='actor',\n",
    "            chkpt_dir='tmp/ddpg'):\n",
    "        super(ActorNetwork, self).__init__()\n",
    "        self.fc1_dims = fc1_dims\n",
    "        self.fc2_dims = fc2_dims\n",
    "        self.n_actions = n_actions\n",
    "\n",
    "        self.model_name = name\n",
    "        self.checkpoint_dir = chkpt_dir\n",
    "        self.checkpoint_file = os.path.join(self.checkpoint_dir, \n",
    "                    self.model_name+'_ddpg.h5')\n",
    "\n",
    "        self.fc1 = Dense(self.fc1_dims, activation='relu')\n",
    "        self.fc2 = Dense(self.fc2_dims, activation='relu')\n",
    "        self.mu = Dense(self.n_actions, activation='tanh')\n",
    "\n",
    "    def call(self, state):\n",
    "        prob = self.fc1(state)\n",
    "        prob = self.fc2(prob)\n",
    "\n",
    "        mu = self.mu(prob)\n",
    "\n",
    "        return mu"
   ]
  }
 ],
 "metadata": {
  "kernelspec": {
   "display_name": "Python 3",
   "language": "python",
   "name": "python3"
  },
  "language_info": {
   "codemirror_mode": {
    "name": "ipython",
    "version": 3
   },
   "file_extension": ".py",
   "mimetype": "text/x-python",
   "name": "python",
   "nbconvert_exporter": "python",
   "pygments_lexer": "ipython3",
   "version": "3.8.5"
  }
 },
 "nbformat": 4,
 "nbformat_minor": 4
}
