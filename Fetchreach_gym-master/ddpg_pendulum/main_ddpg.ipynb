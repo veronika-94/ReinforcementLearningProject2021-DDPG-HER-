{
 "cells": [
  {
   "cell_type": "code",
   "execution_count": 2,
   "metadata": {},
   "outputs": [
    {
     "ename": "ModuleNotFoundError",
     "evalue": "No module named 'ddpg_tf2'",
     "output_type": "error",
     "traceback": [
      "\u001b[0;31m---------------------------------------------------------------------------\u001b[0m",
      "\u001b[0;31mModuleNotFoundError\u001b[0m                       Traceback (most recent call last)",
      "\u001b[0;32m<ipython-input-2-d22a2f6ae806>\u001b[0m in \u001b[0;36m<module>\u001b[0;34m\u001b[0m\n\u001b[1;32m      1\u001b[0m \u001b[0;32mimport\u001b[0m \u001b[0mgym\u001b[0m\u001b[0;34m\u001b[0m\u001b[0;34m\u001b[0m\u001b[0m\n\u001b[1;32m      2\u001b[0m \u001b[0;32mimport\u001b[0m \u001b[0mnumpy\u001b[0m \u001b[0;32mas\u001b[0m \u001b[0mnp\u001b[0m\u001b[0;34m\u001b[0m\u001b[0;34m\u001b[0m\u001b[0m\n\u001b[0;32m----> 3\u001b[0;31m \u001b[0;32mfrom\u001b[0m \u001b[0mddpg_tf2\u001b[0m \u001b[0;32mimport\u001b[0m \u001b[0mAgent\u001b[0m\u001b[0;34m\u001b[0m\u001b[0;34m\u001b[0m\u001b[0m\n\u001b[0m\u001b[1;32m      4\u001b[0m \u001b[0;32mfrom\u001b[0m \u001b[0mutils\u001b[0m \u001b[0;32mimport\u001b[0m \u001b[0mplot_learning_curve\u001b[0m\u001b[0;34m\u001b[0m\u001b[0;34m\u001b[0m\u001b[0m\n\u001b[1;32m      5\u001b[0m \u001b[0;34m\u001b[0m\u001b[0m\n",
      "\u001b[0;31mModuleNotFoundError\u001b[0m: No module named 'ddpg_tf2'"
     ]
    }
   ],
   "source": [
    "import gym\n",
    "import numpy as np\n",
    "from ddpg_tf2 import Agent\n",
    "from utils import plot_learning_curve\n",
    "\n",
    "if __name__ == '__main__':\n",
    "    env = gym.make('Pendulum-v0')\n",
    "    agent = Agent(input_dims=env.observation3_space.shape, env=env,\n",
    "            n_actions=env.action_space.shape[0])\n",
    "    n_games = 250\n",
    "\n",
    "    figure_file = 'plots/pendulum.png'\n",
    "\n",
    "    best_score = env.reward_range[0]\n",
    "    score_history = []\n",
    "    load_checkpoint = False\n",
    "\n",
    "    if load_checkpoint:\n",
    "        n_steps = 0\n",
    "        while n_steps <= agent.batch_size:\n",
    "            observation = env.reset()\n",
    "            action = env.action_space.sample()\n",
    "            observation_, reward, done, info = env.step(action)\n",
    "            agent.remember(observation, action, reward, observation_, done)\n",
    "            n_steps += 1\n",
    "        agent.learn()\n",
    "        agent.load_models()\n",
    "        evaluate = True\n",
    "    else:\n",
    "        evaluate = False\n",
    "\n",
    "    for i in range(n_games):\n",
    "        observation = env.reset()\n",
    "        done = False\n",
    "        score = 0\n",
    "        while not done:\n",
    "            action = agent.choose_action(observation, evaluate)\n",
    "            observation_, reward, done, info = env.step(action)\n",
    "            score += reward\n",
    "            agent.remember(observation, action, reward, observation_, done)\n",
    "            if not load_checkpoint:\n",
    "                agent.learn()\n",
    "            observation = observation_\n",
    "\n",
    "        score_history.append(score)\n",
    "        avg_score = np.mean(score_history[-100:])\n",
    "\n",
    "        if avg_score > best_score:\n",
    "            best_score = avg_score\n",
    "            if not load_checkpoint:\n",
    "                agent.save_models()\n",
    "\n",
    "        print('episode ', i, 'score %.1f' % score, 'avg score %.1f' % avg_score)\n",
    "\n",
    "    if not load_checkpoint:\n",
    "        x = [i+1 for i in range(n_games)]\n",
    "        plot_learning_curve(x, score_history, figure_file)"
   ]
  },
  {
   "cell_type": "code",
   "execution_count": null,
   "metadata": {},
   "outputs": [],
   "source": []
  }
 ],
 "metadata": {
  "kernelspec": {
   "display_name": "Python 3",
   "language": "python",
   "name": "python3"
  },
  "language_info": {
   "codemirror_mode": {
    "name": "ipython",
    "version": 3
   },
   "file_extension": ".py",
   "mimetype": "text/x-python",
   "name": "python",
   "nbconvert_exporter": "python",
   "pygments_lexer": "ipython3",
   "version": "3.8.5"
  }
 },
 "nbformat": 4,
 "nbformat_minor": 4
}
